{
 "cells": [
  {
   "cell_type": "code",
   "execution_count": 8,
   "id": "1286e20b",
   "metadata": {},
   "outputs": [
    {
     "name": "stdout",
     "output_type": "stream",
     "text": [
      "Welcome to the voter registration program\n",
      "\n",
      "Please enter your name: emma\n",
      "Please enter your age: 12\n",
      "\n",
      "You are not old enough to register\n"
     ]
    }
   ],
   "source": [
    "print('Welcome to the voter registration program')\n",
    "\n",
    "name = input('\\nPlease enter your name: ')\n",
    "age = int(input('Please enter your age: '))\n",
    "\n",
    "political_parties = ['Republican','Democratic','Independent','Libertarian','Green']\n",
    "\n",
    "if age < 18:\n",
    "    print('\\nYou are not old enough to register')\n",
    "elif age >= 18:\n",
    "    print(f'\\nCongratulations {name}! You are old enough to register')\n",
    "    print('\\nHere is a list of political parties to join:')\n",
    "    for party in political_parties:\n",
    "        print(f'\\t-{party}')\n",
    "        \n",
    "    party_to_join = input('what party would you like to join: ').title()\n",
    "    print(f'\\nCongratulations {name}! You have joined the {party_to_join} party!')\n",
    "    \n",
    "    if party_to_join == 'Independent':\n",
    "        print('You are an independent person')\n",
    "    else:\n",
    "        print(f'This is a major party')\n",
    "    "
   ]
  },
  {
   "cell_type": "code",
   "execution_count": 9,
   "id": "d3cdc9d8",
   "metadata": {},
   "outputs": [
    {
     "name": "stdout",
     "output_type": "stream",
     "text": [
      "Welcome to the voter registration program\n",
      "\n",
      "Please enter your name: emma\n",
      "Please enter your age: 23\n",
      "\n",
      "Congratulations emma! You are old enough to register\n",
      "\n",
      "Here is a list of political parties to join:\n",
      "\t-Republican\n",
      "\t-Democratic\n",
      "\t-Independent\n",
      "\t-Libertarian\n",
      "\t-Green\n",
      "what party would you like to join: green\n",
      "\n",
      "Congratulations emma! You have joined the Green party!\n",
      "This is a major party\n"
     ]
    }
   ],
   "source": [
    "print('Welcome to the voter registration program')\n",
    "\n",
    "name = input('\\nPlease enter your name: ')\n",
    "age = int(input('Please enter your age: '))\n",
    "\n",
    "political_parties = ['Republican','Democratic','Independent','Libertarian','Green']\n",
    "\n",
    "if age < 18:\n",
    "    print('\\nYou are not old enough to register')\n",
    "elif age >= 18:\n",
    "    print(f'\\nCongratulations {name}! You are old enough to register')\n",
    "    print('\\nHere is a list of political parties to join:')\n",
    "    for party in political_parties:\n",
    "        print(f'\\t-{party}')\n",
    "        \n",
    "    party_to_join = input('what party would you like to join: ').title()\n",
    "    print(f'\\nCongratulations {name}! You have joined the {party_to_join} party!')\n",
    "    \n",
    "    if party_to_join == 'Independent':\n",
    "        print('You are an independent person')\n",
    "    else:\n",
    "        print(f'This is a major party')\n",
    "    "
   ]
  },
  {
   "cell_type": "code",
   "execution_count": 10,
   "id": "5ca82033",
   "metadata": {},
   "outputs": [
    {
     "name": "stdout",
     "output_type": "stream",
     "text": [
      "Welcome to the voter registration program\n",
      "\n",
      "Please enter your name: emma\n",
      "Please enter your age: 34\n",
      "\n",
      "Congratulations emma! You are old enough to register\n",
      "\n",
      "Here is a list of political parties to join:\n",
      "\t-Republican\n",
      "\t-Democratic\n",
      "\t-Independent\n",
      "\t-Libertarian\n",
      "\t-Green\n",
      "what party would you like to join: INDEPENDENT\n",
      "\n",
      "Congratulations emma! You have joined the Independent party!\n",
      "You are an independent person\n"
     ]
    }
   ],
   "source": [
    "print('Welcome to the voter registration program')\n",
    "\n",
    "name = input('\\nPlease enter your name: ')\n",
    "age = int(input('Please enter your age: '))\n",
    "\n",
    "political_parties = ['Republican','Democratic','Independent','Libertarian','Green']\n",
    "\n",
    "if age < 18:\n",
    "    print('\\nYou are not old enough to register')\n",
    "elif age >= 18:\n",
    "    print(f'\\nCongratulations {name}! You are old enough to register')\n",
    "    print('\\nHere is a list of political parties to join:')\n",
    "    for party in political_parties:\n",
    "        print(f'\\t-{party}')\n",
    "        \n",
    "    party_to_join = input('what party would you like to join: ').title()\n",
    "    print(f'\\nCongratulations {name}! You have joined the {party_to_join} party!')\n",
    "    \n",
    "    if party_to_join == 'Independent':\n",
    "        print('You are an independent person')\n",
    "    else:\n",
    "        print(f'This is a major party')\n",
    "    "
   ]
  },
  {
   "cell_type": "code",
   "execution_count": null,
   "id": "3b411579",
   "metadata": {},
   "outputs": [],
   "source": []
  }
 ],
 "metadata": {
  "kernelspec": {
   "display_name": "Python 3 (ipykernel)",
   "language": "python",
   "name": "python3"
  },
  "language_info": {
   "codemirror_mode": {
    "name": "ipython",
    "version": 3
   },
   "file_extension": ".py",
   "mimetype": "text/x-python",
   "name": "python",
   "nbconvert_exporter": "python",
   "pygments_lexer": "ipython3",
   "version": "3.11.5"
  }
 },
 "nbformat": 4,
 "nbformat_minor": 5
}
