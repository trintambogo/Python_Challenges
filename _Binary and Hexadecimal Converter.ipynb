{
 "cells": [
  {
   "cell_type": "code",
   "execution_count": 29,
   "id": "2630e3dd",
   "metadata": {},
   "outputs": [
    {
     "name": "stdout",
     "output_type": "stream",
     "text": [
      "Welcome to the Binary and Hexadecimal Converter\n",
      "Compute binary and hexadecimal values up to the following number:15\n",
      "Using slices, we will now show a portion of each list\n",
      "What decimal number would you like to start at: 3\n",
      "What decimal number would you like to stop at: 8\n"
     ]
    }
   ],
   "source": [
    "print('Welcome to the Binary and Hexadecimal Converter')\n",
    "total_numbers = int(input('Compute binary and hexadecimal values up to the following number:'))\n",
    "print('Using slices, we will now show a portion of each list')\n",
    "start = int(input('What decimal number would you like to start at: '))\n",
    "stop = int(input('What decimal number would you like to stop at: '))"
   ]
  },
  {
   "cell_type": "code",
   "execution_count": 30,
   "id": "c32e9215",
   "metadata": {},
   "outputs": [
    {
     "name": "stdout",
     "output_type": "stream",
     "text": [
      "Decimal numbers from 3 to 8\n",
      "3\n",
      "4\n",
      "5\n",
      "6\n",
      "7\n",
      "8\n",
      "Binary values from 3 to 8\n",
      "0b11\n",
      "0b100\n",
      "0b101\n",
      "0b110\n",
      "0b111\n",
      "0b1000\n",
      "Hexadecimal values from 3 to 8\n",
      "0x3\n",
      "0x4\n",
      "0x5\n",
      "0x6\n",
      "0x7\n",
      "0x8\n",
      "Press Enter to see all values from 1 to 15\n",
      "Decimal-------Binary-------Hexadecimal\n",
      "1\t\t0b1\t\t0x1\n",
      "2\t\t0b10\t\t0x2\n",
      "3\t\t0b11\t\t0x3\n",
      "4\t\t0b100\t\t0x4\n",
      "5\t\t0b101\t\t0x5\n",
      "6\t\t0b110\t\t0x6\n",
      "7\t\t0b111\t\t0x7\n",
      "8\t\t0b1000\t\t0x8\n",
      "9\t\t0b1001\t\t0x9\n",
      "10\t\t0b1010\t\t0xa\n",
      "11\t\t0b1011\t\t0xb\n",
      "12\t\t0b1100\t\t0xc\n",
      "13\t\t0b1101\t\t0xd\n",
      "14\t\t0b1110\t\t0xe\n",
      "15\t\t0b1111\t\t0xf\n"
     ]
    }
   ],
   "source": [
    "binary_values = []\n",
    "hexadecimal_values = []\n",
    "\n",
    "print(f'Decimal numbers from {start} to {stop}')\n",
    "for number in range(start,stop+1):\n",
    "    print(number)\n",
    "    \n",
    "print(f'Binary values from {start} to {stop}')\n",
    "for number in range(start,stop+1):\n",
    "    binary = bin(number)\n",
    "    binary_values.append(binary)\n",
    "    print(binary)\n",
    "    \n",
    "print(f'Hexadecimal values from {start} to {stop}')\n",
    "for number in range(start,stop+1):\n",
    "    hexa = hex(number)\n",
    "    hexadecimal_values.append(hexa)\n",
    "    print(hexa)\n",
    "    \n",
    "input(f'Press Enter to see all values from 1 to {total_numbers}')\n",
    "print('Decimal-------Binary-------Hexadecimal')\n",
    "for number in range(1,total_numbers+1):\n",
    "    print(f'{number}\\t\\t{bin(number)}\\t\\t{hex(number)}')"
   ]
  },
  {
   "cell_type": "code",
   "execution_count": null,
   "id": "55f28b93",
   "metadata": {},
   "outputs": [],
   "source": []
  }
 ],
 "metadata": {
  "kernelspec": {
   "display_name": "Python 3 (ipykernel)",
   "language": "python",
   "name": "python3"
  },
  "language_info": {
   "codemirror_mode": {
    "name": "ipython",
    "version": 3
   },
   "file_extension": ".py",
   "mimetype": "text/x-python",
   "name": "python",
   "nbconvert_exporter": "python",
   "pygments_lexer": "ipython3",
   "version": "3.11.5"
  }
 },
 "nbformat": 4,
 "nbformat_minor": 5
}
