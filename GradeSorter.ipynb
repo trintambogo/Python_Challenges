{
 "cells": [
  {
   "cell_type": "code",
   "execution_count": 18,
   "id": "8caf84e7",
   "metadata": {},
   "outputs": [],
   "source": [
    "#the program collects grades from a user.\n",
    "#sorts the grades from highest to lowest.\n",
    "#drops the lowest two grades the user entered.\n",
    "#comments on the user's highest grade"
   ]
  },
  {
   "cell_type": "code",
   "execution_count": 19,
   "id": "fd5ff926",
   "metadata": {},
   "outputs": [
    {
     "name": "stdout",
     "output_type": "stream",
     "text": [
      "Welcome to the grade sorter app\n",
      "\n",
      "What is your first grade(0-100): 64\n",
      "What is your second grade(0-100): 52\n",
      "What is your third grade(0-100): 87\n",
      "What is your forth grade(0-100): 95\n",
      "Your grades are [64, 52, 87, 95] \n",
      "\n",
      "Your grades from highest to lowest are: [95, 87, 64, 52] \n",
      "\n",
      "The lowest two grades will now be dropped\n",
      "Removed grade: 64\n",
      "Removed grade: 52 \n",
      "\n",
      "Your remaining grades are: [95, 87]\n",
      "Nice work! Your highest grade is a 95\n"
     ]
    }
   ],
   "source": [
    "print('Welcome to the grade sorter app\\n')\n",
    "\n",
    "#getting user input of the grades\n",
    "firstgrade= int(input('What is your first grade(0-100): '))\n",
    "secondgrade= int(input('What is your second grade(0-100): '))\n",
    "thirdgrade= int(input('What is your third grade(0-100): '))\n",
    "forthgrade= int(input('What is your forth grade(0-100): '))\n",
    "\n",
    "#create list of the grades\n",
    "grades = [firstgrade,secondgrade,thirdgrade,forthgrade]\n",
    "print(f'Your grades are {grades} \\n')\n",
    "\n",
    "#sorting the grades from highest to lowest\n",
    "sorted_grades = sorted(grades,reverse=True)\n",
    "print(f'Your grades from highest to lowest are: {sorted_grades} \\n')\n",
    "\n",
    "#dropping the 2 lowest grades\n",
    "print('The lowest two grades will now be dropped')\n",
    "print(f'Removed grade: {sorted_grades.pop(-2)}')\n",
    "print(f'Removed grade: {sorted_grades.pop(-1)} \\n')\n",
    "\n",
    "#grabbing the highest grade\n",
    "print(f'Your remaining grades are: {sorted_grades}')\n",
    "print(f'Nice work! Your highest grade is a {sorted_grades[0]}')"
   ]
  },
  {
   "cell_type": "code",
   "execution_count": null,
   "id": "7b3c0268",
   "metadata": {},
   "outputs": [],
   "source": []
  },
  {
   "cell_type": "code",
   "execution_count": null,
   "id": "bb094d14",
   "metadata": {},
   "outputs": [],
   "source": [
    "\n",
    "\n"
   ]
  },
  {
   "cell_type": "code",
   "execution_count": null,
   "id": "335b396d",
   "metadata": {},
   "outputs": [],
   "source": []
  },
  {
   "cell_type": "code",
   "execution_count": null,
   "id": "4117d3bf",
   "metadata": {},
   "outputs": [],
   "source": []
  }
 ],
 "metadata": {
  "kernelspec": {
   "display_name": "Python 3 (ipykernel)",
   "language": "python",
   "name": "python3"
  },
  "language_info": {
   "codemirror_mode": {
    "name": "ipython",
    "version": 3
   },
   "file_extension": ".py",
   "mimetype": "text/x-python",
   "name": "python",
   "nbconvert_exporter": "python",
   "pygments_lexer": "ipython3",
   "version": "3.11.5"
  }
 },
 "nbformat": 4,
 "nbformat_minor": 5
}
