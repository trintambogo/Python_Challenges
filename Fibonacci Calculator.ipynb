{
 "cells": [
  {
   "cell_type": "code",
   "execution_count": 34,
   "id": "99ce8b49",
   "metadata": {},
   "outputs": [
    {
     "name": "stdout",
     "output_type": "stream",
     "text": [
      "Welcome to the Fibonacci Calculator App\n",
      "\n",
      "How many digits of the Fibonacci Sequence would you like to compute: 20\n",
      "\n",
      "The first 20 numbers of the fibonnaci sequence are:\n",
      "1\n",
      "1\n",
      "2\n",
      "3\n",
      "5\n",
      "8\n",
      "13\n",
      "21\n",
      "34\n",
      "55\n",
      "89\n",
      "144\n",
      "233\n",
      "377\n",
      "610\n",
      "987\n",
      "1597\n",
      "2584\n",
      "4181\n",
      "6765\n",
      "\n",
      "The corresponding Golden Ratio values are: \n",
      "1.0\n",
      "2.0\n",
      "1.5\n",
      "1.6666666666666667\n",
      "1.6\n",
      "1.625\n",
      "1.6153846153846154\n",
      "1.619047619047619\n",
      "1.6176470588235294\n",
      "1.6181818181818182\n",
      "1.6179775280898876\n",
      "1.6180555555555556\n",
      "1.6180257510729614\n",
      "1.6180371352785146\n",
      "1.618032786885246\n",
      "1.618034447821682\n",
      "1.6180338134001253\n",
      "1.618034055727554\n",
      "\n",
      "The ratio of consecutive Fibonacci terms approaches Phi; 1.618\n"
     ]
    }
   ],
   "source": [
    "print('Welcome to the Fibonacci Calculator App\\n')\n",
    "\n",
    "fibonnaci_numbers = int(input('How many digits of the Fibonacci Sequence would you like to compute: '))\n",
    "\n",
    "mylist = [1,1]\n",
    "for i in range(1,fibonnaci_numbers-1):\n",
    "    sum_number = mylist[i-1] + mylist[i]\n",
    "    mylist.append(sum_number)\n",
    "    \n",
    "print(f'\\nThe first {fibonnaci_numbers} numbers of the fibonnaci sequence are:')    \n",
    "for i in mylist:\n",
    "    print(i)\n",
    "\n",
    "golden_ratio = []\n",
    "for i in range(1,fibonnaci_numbers-1):\n",
    "    divide = mylist[i]/mylist[i-1]\n",
    "    golden_ratio.append(divide)\n",
    "    \n",
    "print(f'\\nThe corresponding Golden Ratio values are: ')   \n",
    "for i in golden_ratio:\n",
    "    print(i)\n",
    "    \n",
    "print(f'\\nThe ratio of consecutive Fibonacci terms approaches Phi; 1.618')"
   ]
  },
  {
   "cell_type": "code",
   "execution_count": null,
   "id": "2e79a279",
   "metadata": {},
   "outputs": [],
   "source": []
  }
 ],
 "metadata": {
  "kernelspec": {
   "display_name": "Python 3 (ipykernel)",
   "language": "python",
   "name": "python3"
  },
  "language_info": {
   "codemirror_mode": {
    "name": "ipython",
    "version": 3
   },
   "file_extension": ".py",
   "mimetype": "text/x-python",
   "name": "python",
   "nbconvert_exporter": "python",
   "pygments_lexer": "ipython3",
   "version": "3.11.5"
  }
 },
 "nbformat": 4,
 "nbformat_minor": 5
}
