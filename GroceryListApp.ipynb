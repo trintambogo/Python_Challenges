{
 "cells": [
  {
   "cell_type": "code",
   "execution_count": 1,
   "id": "f85df1d6",
   "metadata": {},
   "outputs": [],
   "source": [
    "#import datetime module\n",
    "from datetime import datetime"
   ]
  },
  {
   "cell_type": "code",
   "execution_count": 39,
   "id": "3194bd46",
   "metadata": {},
   "outputs": [
    {
     "name": "stdout",
     "output_type": "stream",
     "text": [
      "Welcome to the Grade Sorter App\n",
      "Current Date and Time: 2024-01-04 22:29\n",
      "You currently have Meat and Cheese in your list/n\n"
     ]
    }
   ],
   "source": [
    "print('Welcome to the Grade Sorter App')\n",
    "date_time=datetime.now().strftime(\"%Y-%m-%d %H:%M\")\n",
    "print(f'Current Date and Time: {date_time}')\n",
    "\n",
    "my_list=['Meat','Cheese']\n",
    "\n",
    "print(f'You currently have {my_list[0]} and {my_list[1]} in your list/n')"
   ]
  },
  {
   "cell_type": "code",
   "execution_count": 40,
   "id": "2a2cf762",
   "metadata": {},
   "outputs": [
    {
     "name": "stdout",
     "output_type": "stream",
     "text": [
      "Type of food to add to the grocery list: pizza\n",
      "Type of food to add to the grocery list: cake\n",
      "Type of food to add to the grocery list: fish\n"
     ]
    }
   ],
   "source": [
    "grocery1 = input('Type of food to add to the grocery list: ').title()\n",
    "grocery2 = input('Type of food to add to the grocery list: ').title()\n",
    "grocery3 = input('Type of food to add to the grocery list: ').title()\n",
    "\n",
    "added_items = [grocery1,grocery2,grocery3]"
   ]
  },
  {
   "cell_type": "code",
   "execution_count": 41,
   "id": "c3e8dd0d",
   "metadata": {},
   "outputs": [],
   "source": [
    "my_list.extend(added_items)"
   ]
  },
  {
   "cell_type": "code",
   "execution_count": 42,
   "id": "75522d25",
   "metadata": {},
   "outputs": [],
   "source": [
    "#append adds a single item at the end of a list while extend adds elements from an iterable to the end of a list"
   ]
  },
  {
   "cell_type": "code",
   "execution_count": 43,
   "id": "7149c6c9",
   "metadata": {},
   "outputs": [
    {
     "name": "stdout",
     "output_type": "stream",
     "text": [
      "Here is your grocery List: ['Meat', 'Cheese', 'Pizza', 'Cake', 'Fish']\n",
      "Here is your grocery list sorted: ['Cake', 'Cheese', 'Fish', 'Meat', 'Pizza']\n"
     ]
    }
   ],
   "source": [
    "print(f\"Here is your grocery List: {my_list}\")\n",
    "print(f\"Here is your grocery list sorted: {sorted(my_list)}\")"
   ]
  },
  {
   "cell_type": "code",
   "execution_count": null,
   "id": "c22a5109",
   "metadata": {},
   "outputs": [],
   "source": [
    "#'remove' removes elements by value while pop removes elements by index"
   ]
  },
  {
   "cell_type": "code",
   "execution_count": 52,
   "id": "189f1077",
   "metadata": {},
   "outputs": [
    {
     "name": "stdout",
     "output_type": "stream",
     "text": [
      "Simulating grocery shopping list....\n",
      "\n",
      "Current grocery list:3 items\n",
      "['Cheese', 'Pizza', 'Fish']\n",
      "What food did you just buy: fish\n",
      "Removing Fish from list\n",
      "\n",
      "Current grocery list:2 items\n",
      "['Cheese', 'Pizza']\n"
     ]
    }
   ],
   "source": [
    "print('Simulating grocery shopping list....\\n')\n",
    "print(f'Current grocery list:{len(my_list)} items\\n{my_list}')\n",
    "food1 = input('What food did you just buy: ').title()\n",
    "print(f'Removing {food1} from list\\n')\n",
    "my_list.remove(food1)\n",
    "\n",
    "print(f'Current grocery list:{len(my_list)} items\\n{my_list}')\n",
    "\n"
   ]
  },
  {
   "cell_type": "code",
   "execution_count": null,
   "id": "703ba1c9",
   "metadata": {},
   "outputs": [],
   "source": []
  }
 ],
 "metadata": {
  "kernelspec": {
   "display_name": "Python 3 (ipykernel)",
   "language": "python",
   "name": "python3"
  },
  "language_info": {
   "codemirror_mode": {
    "name": "ipython",
    "version": 3
   },
   "file_extension": ".py",
   "mimetype": "text/x-python",
   "name": "python",
   "nbconvert_exporter": "python",
   "pygments_lexer": "ipython3",
   "version": "3.11.5"
  }
 },
 "nbformat": 4,
 "nbformat_minor": 5
}
