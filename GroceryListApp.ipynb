{
 "cells": [
  {
   "cell_type": "code",
   "execution_count": 107,
   "id": "f85df1d6",
   "metadata": {},
   "outputs": [],
   "source": [
    "#import datetime module\n",
    "from datetime import datetime"
   ]
  },
  {
   "cell_type": "code",
   "execution_count": 114,
   "id": "fa3fac97",
   "metadata": {},
   "outputs": [],
   "source": [
    "#the code welcomes the user, displays on the current date and time and prints items in a list"
   ]
  },
  {
   "cell_type": "code",
   "execution_count": 108,
   "id": "3194bd46",
   "metadata": {},
   "outputs": [
    {
     "name": "stdout",
     "output_type": "stream",
     "text": [
      "Welcome to the Grade Sorter App\n",
      "Current Date and Time: 2024-01-05 14:27\n",
      "You currently have Meat and Cheese in your list\n"
     ]
    }
   ],
   "source": [
    "print('Welcome to the Grade Sorter App')\n",
    "date_time=datetime.now().strftime(\"%Y-%m-%d %H:%M\")\n",
    "print(f'Current Date and Time: {date_time}')\n",
    "\n",
    "my_list=['Meat','Cheese']\n",
    "\n",
    "print(f'You currently have {my_list[0]} and {my_list[1]} in your list')"
   ]
  },
  {
   "cell_type": "code",
   "execution_count": 115,
   "id": "dd5e8df9",
   "metadata": {},
   "outputs": [],
   "source": [
    "#prompts a user to input three different grocery items and \n",
    "# checks if the input is either already in the list or the value is  an empty string\n",
    "#adds items to the original grocery list"
   ]
  },
  {
   "cell_type": "code",
   "execution_count": 109,
   "id": "c14d5a1f",
   "metadata": {},
   "outputs": [
    {
     "name": "stdout",
     "output_type": "stream",
     "text": [
      "Type of food to add to the grocery list: bacon\n",
      "Type of food to add to the grocery list: meat\n",
      "Sorry, Meat is already in the list\n",
      " Please try again\n",
      "Type of food to add to the grocery list: \n",
      "Please input a value\n",
      "Type of food to add to the grocery list: eggs\n",
      "Type of food to add to the grocery list: chicken\n"
     ]
    },
    {
     "data": {
      "text/plain": [
       "['Meat', 'Cheese', 'Bacon', 'Eggs', 'Chicken']"
      ]
     },
     "execution_count": 109,
     "metadata": {},
     "output_type": "execute_result"
    }
   ],
   "source": [
    "grocery1 = input('Type of food to add to the grocery list: ').title()\n",
    "\n",
    "while grocery1 in my_list or grocery1.strip()==\"\":\n",
    "    if grocery1 in my_list:\n",
    "        print(f'Sorry, {grocery1} is already in the list\\n Please try again')\n",
    "        grocery1 = input('Type of food to add to the grocery list: ').title()\n",
    "    elif grocery1.strip()==\"\":\n",
    "        print('Please input a value')\n",
    "        grocery1 = input('Type of food to add to the grocery list: ').title()\n",
    "my_list.append(grocery1)\n",
    "    \n",
    "grocery2 = input('Type of food to add to the grocery list: ').title()\n",
    "\n",
    "while grocery2 in my_list or grocery2.strip()==\"\":\n",
    "    if grocery2 in my_list:\n",
    "        print(f'Sorry, {grocery2} is already in the list\\n Please try again')\n",
    "        grocery2 = input('Type of food to add to the grocery list: ').title()\n",
    "    elif grocery2.strip()==\"\":\n",
    "        print('Please input a value')\n",
    "        grocery2 = input('Type of food to add to the grocery list: ').title()\n",
    "my_list.append(grocery2)\n",
    "    \n",
    "grocery3 = input('Type of food to add to the grocery list: ').title()\n",
    "\n",
    "while grocery3 in my_list or grocery3.strip()==\"\":\n",
    "    if grocery3 in my_list:\n",
    "        print(f'Sorry, {grocery3} is already in the list\\n Please try again')\n",
    "        grocery3 = input('Type of food to add to the grocery list: ').title()\n",
    "    elif grocery3.strip()==\"\":\n",
    "        print('Please input a value')\n",
    "        grocery3 = input('Type of food to add to the grocery list: ').title()\n",
    "my_list.append(grocery3)\n",
    "my_list"
   ]
  },
  {
   "cell_type": "code",
   "execution_count": 110,
   "id": "919d69d1",
   "metadata": {},
   "outputs": [],
   "source": [
    "#printing the list and the sorted list"
   ]
  },
  {
   "cell_type": "code",
   "execution_count": 111,
   "id": "40823cfe",
   "metadata": {},
   "outputs": [
    {
     "name": "stdout",
     "output_type": "stream",
     "text": [
      "Here is your grocery List: ['Meat', 'Cheese', 'Bacon', 'Eggs', 'Chicken']\n",
      "Here is your grocery list sorted: ['Bacon', 'Cheese', 'Chicken', 'Eggs', 'Meat']\n"
     ]
    }
   ],
   "source": [
    "print(f\"Here is your grocery List: {my_list}\")\n",
    "print(f\"Here is your grocery list sorted: {sorted(my_list)}\")"
   ]
  },
  {
   "cell_type": "code",
   "execution_count": 112,
   "id": "7dbe9509",
   "metadata": {},
   "outputs": [],
   "source": [
    "#'remove' removes elements by value while pop removes elements by index\n",
    "# the code allows the user to update their shopping list by removing items the user buys and adds new items"
   ]
  },
  {
   "cell_type": "code",
   "execution_count": 113,
   "id": "e8fe270f",
   "metadata": {},
   "outputs": [
    {
     "name": "stdout",
     "output_type": "stream",
     "text": [
      "Simulating grocery shopping list....\n",
      "\n",
      "Current grocery list:5 items\n",
      "['Meat', 'Cheese', 'Bacon', 'Eggs', 'Chicken']\n",
      "What food did you just buy: eggs\n",
      "Removing Eggs from list\n",
      "\n",
      "Current grocery list:4 items\n",
      "['Meat', 'Cheese', 'Bacon', 'Chicken']\n",
      "What food did you just buy: meat\n",
      "Removing Meat from list\n",
      "\n",
      "Current grocery list:3 items\n",
      "['Cheese', 'Bacon', 'Chicken']\n",
      "What food did you just buy: \n",
      "Please enter a value\n",
      "What food did you just buy: meat\n",
      "Sorry, Meat is not in the shopping list\n",
      " Please try again\n",
      "What food did you just buy: chicken\n",
      "Removing Chicken from list\n",
      "\n",
      "Current grocery list:2 items\n",
      "['Cheese', 'Bacon']\n",
      "Sorry, the store is out of Bacon\n",
      "What food would you like instead: \n",
      "mangoes\n",
      "Here is what remains on your grocery list:\n",
      " ['Cheese', 'Mangoes']\n"
     ]
    }
   ],
   "source": [
    "print('Simulating grocery shopping list....\\n')\n",
    "print(f'Current grocery list:{len(my_list)} items\\n{my_list}')\n",
    "food1 = input('What food did you just buy: ').title()\n",
    "\n",
    "while food1.strip()==\"\" or food1 not in my_list:\n",
    "    if food1 == \"\":\n",
    "        print('Please enter a value')\n",
    "        food1 = input('What food did you just buy: ').title()\n",
    "    elif food1 not in my_list:\n",
    "        print(f'Sorry, {food1} is not in the shopping list\\n Please try again')\n",
    "        food1 = input('What food did you just buy: ').title()\n",
    "    \n",
    "print(f'Removing {food1} from list\\n')\n",
    "my_list.remove(food1)\n",
    "\n",
    "print(f'Current grocery list:{len(my_list)} items\\n{my_list}')\n",
    "food2 = input('What food did you just buy: ').title()\n",
    "\n",
    "while food2.strip()==\"\" or food2 not in my_list:\n",
    "    if food2 == \"\":\n",
    "        print('Please enter a value')\n",
    "        food2 = input('What food did you just buy: ').title()\n",
    "    elif food2 not in my_list:\n",
    "        print(f'Sorry, {food2} is not in the shopping list\\n Please try again')\n",
    "        food2 = input('What food did you just buy: ').title()\n",
    "        \n",
    "print(f'Removing {food2} from list\\n')\n",
    "my_list.remove(food2)\n",
    "\n",
    "print(f'Current grocery list:{len(my_list)} items\\n{my_list}')\n",
    "food3 = input('What food did you just buy: ').title()\n",
    "\n",
    "while food3.strip()==\"\" or food3 not in my_list:\n",
    "    if food3 == \"\":\n",
    "        print('Please enter a value')\n",
    "        food3 = input('What food did you just buy: ').title()\n",
    "    elif food3 not in my_list:\n",
    "        print(f'Sorry, {food3} is not in the shopping list\\n Please try again')\n",
    "        food3 = input('What food did you just buy: ').title()\n",
    "    \n",
    "    \n",
    "print(f'Removing {food3} from list\\n')\n",
    "my_list.remove(food3)\n",
    "\n",
    "print(f'Current grocery list:{len(my_list)} items\\n{my_list}')\n",
    "print(f'Sorry, the store is out of {my_list[-1]}')\n",
    "my_list.pop(-1)\n",
    "\n",
    "food4 = input('What food would you like instead: \\n').title()\n",
    "\n",
    "while food4.strip()==\"\" or food4 in my_list:\n",
    "    if food4 == \"\":\n",
    "        print('Please enter a value')\n",
    "        food4 = input('What food would you like instead: \\n').title()\n",
    "    elif food4 in my_list:\n",
    "        print(f'Sorry, {food4} is already in the shopping list\\n Please try again')\n",
    "        food4 = input('What food would you like instead: \\n').title()\n",
    "        \n",
    "my_list.append(food4)\n",
    "print(f'Here is what remains on your grocery list:\\n {my_list}')\n"
   ]
  },
  {
   "cell_type": "code",
   "execution_count": null,
   "id": "9b69a6ec",
   "metadata": {},
   "outputs": [],
   "source": []
  }
 ],
 "metadata": {
  "kernelspec": {
   "display_name": "Python 3 (ipykernel)",
   "language": "python",
   "name": "python3"
  },
  "language_info": {
   "codemirror_mode": {
    "name": "ipython",
    "version": 3
   },
   "file_extension": ".py",
   "mimetype": "text/x-python",
   "name": "python",
   "nbconvert_exporter": "python",
   "pygments_lexer": "ipython3",
   "version": "3.11.5"
  }
 },
 "nbformat": 4,
 "nbformat_minor": 5
}
