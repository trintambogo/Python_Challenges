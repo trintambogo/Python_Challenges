{
 "cells": [
  {
   "cell_type": "code",
   "execution_count": 89,
   "id": "8b3b4aff",
   "metadata": {},
   "outputs": [],
   "source": [
    "import math"
   ]
  },
  {
   "cell_type": "code",
   "execution_count": 90,
   "id": "89d84236",
   "metadata": {
    "scrolled": true
   },
   "outputs": [
    {
     "name": "stdout",
     "output_type": "stream",
     "text": [
      "Welcome to the factorial calculator app\n",
      "What number would you like to compute the factorial of: 5\n",
      "5! = 1*2*3*4*5\n",
      "Here is the result from the math library\n",
      "The result factorial of 5 is 120 \n",
      "\n",
      "Here is the result from my own algorithm\n",
      "The factorial of 5 is 120 \n",
      "\n",
      "It is shown twice that 5! is 120\n"
     ]
    }
   ],
   "source": [
    "print('Welcome to the factorial calculator app')\n",
    "number = int(input('What number would you like to compute the factorial of: '))\n",
    "factorial_answer = math.factorial(number)\n",
    "\n",
    "print(f'{number}! = ',end=\"\")\n",
    "for i in range(1,number):\n",
    "    print(f'{i}*',end=\"\")\n",
    "print(number)\n",
    "print(f'Here is the result from the math library\\nThe result factorial of {number} is {factorial_answer} \\n')\n",
    "\n",
    "print('Here is the result from my own algorithm')\n",
    "fact = 1\n",
    "for i in range(1,number+1):\n",
    "    fact = fact * i\n",
    "print(f'The factorial of {number} is {fact} \\n')\n",
    "print(f'It is shown twice that {number}! is {fact}')\n"
   ]
  },
  {
   "cell_type": "code",
   "execution_count": null,
   "id": "9228129c",
   "metadata": {},
   "outputs": [],
   "source": []
  }
 ],
 "metadata": {
  "kernelspec": {
   "display_name": "Python 3 (ipykernel)",
   "language": "python",
   "name": "python3"
  },
  "language_info": {
   "codemirror_mode": {
    "name": "ipython",
    "version": 3
   },
   "file_extension": ".py",
   "mimetype": "text/x-python",
   "name": "python",
   "nbconvert_exporter": "python",
   "pygments_lexer": "ipython3",
   "version": "3.11.5"
  }
 },
 "nbformat": 4,
 "nbformat_minor": 5
}
