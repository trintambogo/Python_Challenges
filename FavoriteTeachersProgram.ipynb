{
 "cells": [
  {
   "cell_type": "code",
   "execution_count": 58,
   "id": "a15f548d",
   "metadata": {},
   "outputs": [
    {
     "name": "stdout",
     "output_type": "stream",
     "text": [
      "\tWelcome to the Favorite Teachers Program\n",
      "Who is your first favorite teacher: emma\n",
      "Who is your second favorite teacher: brian\n",
      "Who is your third favorite teacher: chris\n",
      "Who is your fourth favorite teacher: peter\n"
     ]
    }
   ],
   "source": [
    "print('\\tWelcome to the Favorite Teachers Program')\n",
    "\n",
    "teachers=[]\n",
    "\n",
    "first_teacher = input('Who is your first favorite teacher: ').title()\n",
    "teachers.append(first_teacher)\n",
    "\n",
    "second_teacher = input('Who is your second favorite teacher: ').title()\n",
    "teachers.append(second_teacher)\n",
    "\n",
    "third_teacher = input('Who is your third favorite teacher: ').title()\n",
    "teachers.append(third_teacher)\n",
    "\n",
    "fourth_teacher = input('Who is your fourth favorite teacher: ').title()\n",
    "teachers.append(fourth_teacher)"
   ]
  },
  {
   "cell_type": "code",
   "execution_count": 59,
   "id": "ee2d3f22",
   "metadata": {},
   "outputs": [
    {
     "name": "stdout",
     "output_type": "stream",
     "text": [
      "Your favorite teachers ranked are ['Emma', 'Brian', 'Chris', 'Peter']\n",
      "\n",
      "Your favorite teachers alphabetically are ['Brian', 'Chris', 'Emma', 'Peter']\n",
      "\n",
      "Your favorite teachers in reverse alphabetical order are ['Peter', 'Emma', 'Chris', 'Brian']\n",
      "\n",
      "Your top two teachers are ['Emma', 'Brian']\n",
      "\n",
      "Your next two favorite teachers are: ['Chris', 'Peter']\n",
      "\n",
      "Your last favorite teacher is: Peter\n",
      "\n",
      "You have a total of 4 favorite teachers\n"
     ]
    }
   ],
   "source": [
    "print(f'Your favorite teachers ranked are {teachers}\\n')\n",
    "\n",
    "print(f'Your favorite teachers alphabetically are {sorted(teachers)}\\n')\n",
    "\n",
    "print(f'Your favorite teachers in reverse alphabetical order are {sorted(teachers,reverse=True)}\\n')\n",
    "\n",
    "print(f'Your top two teachers are {teachers[:2]}\\n')\n",
    "\n",
    "print(f'Your next two favorite teachers are: {teachers[2:4]}\\n')\n",
    "\n",
    "print(f'Your last favorite teacher is: {teachers[-1]}\\n')\n",
    "\n",
    "print(f'You have a total of {len(teachers)} favorite teachers')"
   ]
  },
  {
   "cell_type": "code",
   "execution_count": 60,
   "id": "f3ea812d",
   "metadata": {},
   "outputs": [
    {
     "name": "stdout",
     "output_type": "stream",
     "text": [
      "Oops, Emma is no longer your first favorite teacher\n",
      "Who is your new favorite teacher: christian\n",
      "Your favorite teachers ranked are ['Christian', 'Emma', 'Brian', 'Chris', 'Peter']\n",
      "\n",
      "Your favorite teachers alphabetically are ['Brian', 'Chris', 'Christian', 'Emma', 'Peter']\n",
      "\n",
      "Your favorite teachers in reverse alphabetical order are ['Peter', 'Emma', 'Christian', 'Chris', 'Brian']\n",
      "\n",
      "Your top two teachers are ['Christian', 'Emma']]\n",
      "\n",
      "Your next two favorite teachers are: ['Brian', 'Chris']\n",
      "\n",
      "Your last favorite teacher is: Peter\n",
      "\n",
      "You have a total of 5 favorite teachers\n"
     ]
    }
   ],
   "source": [
    "print(f'Oops, {teachers[0]} is no longer your first favorite teacher')\n",
    "favorite = input('Who is your new favorite teacher: ').title()\n",
    "teachers.insert(0,favorite)\n",
    "\n",
    "print(f'Your favorite teachers ranked are {teachers}\\n')\n",
    "\n",
    "print(f'Your favorite teachers alphabetically are {sorted(teachers)}\\n')\n",
    "\n",
    "print(f'Your favorite teachers in reverse alphabetical order are {sorted(teachers,reverse=True)}\\n')\n",
    "\n",
    "print(f'Your top two teachers are {teachers[:2]}]\\n')\n",
    "print(f'Your next two favorite teachers are: {teachers[2:4]}\\n')\n",
    "print(f'Your last favorite teacher is: {teachers[-1]}\\n')\n",
    "print(f'You have a total of {len(teachers)} favorite teachers')"
   ]
  },
  {
   "cell_type": "code",
   "execution_count": 61,
   "id": "929d6352",
   "metadata": {},
   "outputs": [
    {
     "name": "stdout",
     "output_type": "stream",
     "text": [
      "You have decided you no longer like a teacher. Which teacher would you like to remove:peter\n",
      "Your favorite teachers ranked are ['Christian', 'Emma', 'Brian', 'Chris']\n",
      "\n",
      "Your favorite teachers alphabetically are ['Brian', 'Chris', 'Christian', 'Emma']\n",
      "\n",
      "Your favorite teachers in reverse alphabetical order are ['Emma', 'Christian', 'Chris', 'Brian']\n",
      "\n",
      "Your top two teachers are ['Christian', 'Emma']\n",
      "\n",
      "Your next two favorite teachers are: ['Brian', 'Chris']\n",
      "\n",
      "Your last favorite teacher is: Chris\n",
      "\n",
      "You have a total of 4 favorite teachers\n"
     ]
    }
   ],
   "source": [
    "remove_teacher = input('You have decided you no longer like a teacher. Which teacher would you like to remove:').title()\n",
    "teachers.remove(remove_teacher)\n",
    "\n",
    "print(f'Your favorite teachers ranked are {teachers}\\n')\n",
    "\n",
    "print(f'Your favorite teachers alphabetically are {sorted(teachers)}\\n')\n",
    "\n",
    "print(f'Your favorite teachers in reverse alphabetical order are {sorted(teachers,reverse=True)}\\n')\n",
    "\n",
    "print(f'Your top two teachers are {teachers[:2]}\\n')\n",
    "print(f'Your next two favorite teachers are: {teachers[2:4]}\\n')\n",
    "print(f'Your last favorite teacher is: {teachers[-1]}\\n')\n",
    "print(f'You have a total of {len(teachers)} favorite teachers')"
   ]
  },
  {
   "cell_type": "code",
   "execution_count": null,
   "id": "40370b64",
   "metadata": {},
   "outputs": [],
   "source": []
  }
 ],
 "metadata": {
  "kernelspec": {
   "display_name": "Python 3 (ipykernel)",
   "language": "python",
   "name": "python3"
  },
  "language_info": {
   "codemirror_mode": {
    "name": "ipython",
    "version": 3
   },
   "file_extension": ".py",
   "mimetype": "text/x-python",
   "name": "python",
   "nbconvert_exporter": "python",
   "pygments_lexer": "ipython3",
   "version": "3.11.5"
  }
 },
 "nbformat": 4,
 "nbformat_minor": 5
}
