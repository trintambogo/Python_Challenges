{
 "cells": [
  {
   "cell_type": "code",
   "execution_count": 5,
   "id": "523b1209",
   "metadata": {},
   "outputs": [
    {
     "name": "stdout",
     "output_type": "stream",
     "text": [
      "Welcome to the Quadratic Equation Solver App\n",
      "\n",
      "A quadratic equation is of the form ax^2 + bx + c = 0\n",
      "Your solutions can be real or complex numbers\n",
      "A complex number has two parts: a + bj\n",
      "Where a is the real portion and bj is the imaginary portion\n"
     ]
    }
   ],
   "source": [
    "import cmath #module used to calculate complex numbers\n",
    "print('Welcome to the Quadratic Equation Solver App\\n')\n",
    "print('A quadratic equation is of the form ax^2 + bx + c = 0\\nYour solutions can be real or complex numbers')\n",
    "print('A complex number has two parts: a + bj\\nWhere a is the real portion and bj is the imaginary portion')\n"
   ]
  },
  {
   "cell_type": "code",
   "execution_count": 12,
   "id": "5d291a90",
   "metadata": {},
   "outputs": [
    {
     "name": "stdout",
     "output_type": "stream",
     "text": [
      "How many equations would you like to solve today2\n",
      "Solving equation #1\n",
      "---------------------------\n",
      "Please enter a value of (coefficient of x^2): 2\n",
      "Please enter a value of (coefficient of x): -5\n",
      "Please enter a value of (coefficient): 3\n",
      "The solutions to 2.0x^2+-5.0x+3.0:\n",
      "x1:(1.5+0j)\n",
      "x2:(1+0j)\n",
      "\n",
      "Solving equation #2\n",
      "---------------------------\n",
      "Please enter a value of (coefficient of x^2): 4\n",
      "Please enter a value of (coefficient of x): 16\n",
      "Please enter a value of (coefficient): 30\n",
      "The solutions to 4.0x^2+16.0x+30.0:\n",
      "x1:(-2+1.8708286933869707j)\n",
      "x2:(-2-1.8708286933869707j)\n",
      "\n",
      "Thank you for using the Quadratic Equation Solver App. Goodbye\n"
     ]
    }
   ],
   "source": [
    "equations = int(input('How many equations would you like to solve today'))\n",
    "for number in range(1,equations+1):\n",
    "    print(f'Solving equation #{number}')\n",
    "    print('---------------------------')\n",
    "    a = float(input('Please enter a value of (coefficient of x^2): '))\n",
    "    b = float(input('Please enter a value of (coefficient of x): '))\n",
    "    c = float(input('Please enter a value of (coefficient): '))\n",
    "    \n",
    "    print(f'The solutions to {a}x^2+{b}x+{c}:')\n",
    "    delta = cmath.sqrt(b**2-(4*a*c))\n",
    "    x1 = (-b + delta)/(2*a)\n",
    "    x2 = (-b - delta)/(2*a)\n",
    "    print(f'x1:{x1}')\n",
    "    print(f'x2:{x2}\\n')\n",
    "print('Thank you for using the Quadratic Equation Solver App. Goodbye')  "
   ]
  },
  {
   "cell_type": "code",
   "execution_count": null,
   "id": "946f8a78",
   "metadata": {},
   "outputs": [],
   "source": []
  }
 ],
 "metadata": {
  "kernelspec": {
   "display_name": "Python 3 (ipykernel)",
   "language": "python",
   "name": "python3"
  },
  "language_info": {
   "codemirror_mode": {
    "name": "ipython",
    "version": 3
   },
   "file_extension": ".py",
   "mimetype": "text/x-python",
   "name": "python",
   "nbconvert_exporter": "python",
   "pygments_lexer": "ipython3",
   "version": "3.11.5"
  }
 },
 "nbformat": 4,
 "nbformat_minor": 5
}
