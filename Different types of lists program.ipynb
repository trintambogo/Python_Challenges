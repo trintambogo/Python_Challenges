{
 "cells": [
  {
   "cell_type": "code",
   "execution_count": 1,
   "id": "db316909",
   "metadata": {},
   "outputs": [],
   "source": [
    "#the program highlights the similarities and differences between four different types of lists.\n",
    "# a list of strings, a list of integers, a list of floats, and a list of lists\n",
    "# for each list, the program will describe the data type of the list, the elements of the list and the data type of the first element of the list\n",
    "#program highlights the similarities and differences between sorting a list numerically and alphabetically"
   ]
  },
  {
   "cell_type": "code",
   "execution_count": 2,
   "id": "270364ba",
   "metadata": {},
   "outputs": [],
   "source": [
    "num_strings = ['15','100','55','42']\n",
    "num_ints = [15,100,55,42]\n",
    "num_floats = [10.2,20.3,45.2,43.21]\n",
    "num_lists =  [[1,2,3], [4,5,6], [7,8,9]]"
   ]
  },
  {
   "cell_type": "code",
   "execution_count": 5,
   "id": "87a8e073",
   "metadata": {},
   "outputs": [
    {
     "name": "stdout",
     "output_type": "stream",
     "text": [
      "\t Summary Table \n",
      "\n",
      "The variable num_strings is a <class 'list'>\n",
      "It contains the elements ['15', '100', '55', '42']\n",
      "The element 15 is a <class 'str'> \n",
      "\n",
      "The variable num_ints is a <class 'list'>\n",
      "It contains the elements [15, 100, 55, 42]\n",
      "The element 15 is a <class 'int'> \n",
      "\n",
      "The variable num_floats is a <class 'list'>\n",
      "It contains the elements [10.2, 20.3, 45.2, 43.21]\n",
      "The element 10.2 is a <class 'float'> \n",
      "\n",
      "The variable num_lists is a <class 'list'>\n",
      "It contains the elements [[1, 2, 3], [4, 5, 6], [7, 8, 9]]\n",
      "The element [1, 2, 3] is a <class 'list'> \n",
      "\n",
      "Now sorting num_strings and num_ints...\n",
      "Sorted_num_strings: ['100', '15', '42', '55']\n",
      "Sorted_num_strings: [15, 42, 55, 100]\n",
      "\n",
      "Strings are sorted alphabetically while integers are sorted numerically\n"
     ]
    }
   ],
   "source": [
    "print('\\t Summary Table \\n')\n",
    "print(f'The variable num_strings is a {type(num_strings)}')\n",
    "print(f'It contains the elements {num_strings}')\n",
    "print(f'The element {num_strings[0]} is a {type(num_strings[0])} \\n')\n",
    "\n",
    "print(f'The variable num_ints is a {type(num_ints)}')\n",
    "print(f'It contains the elements {num_ints}')\n",
    "print(f'The element {num_ints[0]} is a {type(num_ints[0])} \\n')\n",
    "\n",
    "print(f'The variable num_floats is a {type(num_floats)}')\n",
    "print(f'It contains the elements {num_floats}')\n",
    "print(f'The element {num_floats[0]} is a {type(num_floats[0])} \\n')\n",
    "\n",
    "print(f'The variable num_lists is a {type(num_lists)}')\n",
    "print(f'It contains the elements {num_lists}')\n",
    "print(f'The element {num_lists[0]} is a {type(num_lists[0])} \\n')\n",
    "\n",
    "print('Now sorting num_strings and num_ints...')\n",
    "print(f'Sorted_num_strings: {sorted(num_strings)}')\n",
    "print(f'Sorted_num_strings: {sorted(num_ints)}\\n')\n",
    "\n",
    "print('Strings are sorted alphabetically while integers are sorted numerically')"
   ]
  },
  {
   "cell_type": "code",
   "execution_count": null,
   "id": "31379811",
   "metadata": {},
   "outputs": [],
   "source": []
  }
 ],
 "metadata": {
  "kernelspec": {
   "display_name": "Python 3 (ipykernel)",
   "language": "python",
   "name": "python3"
  },
  "language_info": {
   "codemirror_mode": {
    "name": "ipython",
    "version": 3
   },
   "file_extension": ".py",
   "mimetype": "text/x-python",
   "name": "python",
   "nbconvert_exporter": "python",
   "pygments_lexer": "ipython3",
   "version": "3.11.5"
  }
 },
 "nbformat": 4,
 "nbformat_minor": 5
}
