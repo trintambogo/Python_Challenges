{
 "cells": [
  {
   "cell_type": "code",
   "execution_count": 25,
   "id": "d65b44bc",
   "metadata": {},
   "outputs": [],
   "source": [
    "#This program displays multiplication table and exponential table for any given number."
   ]
  },
  {
   "cell_type": "code",
   "execution_count": 26,
   "id": "cc1c2289",
   "metadata": {},
   "outputs": [
    {
     "name": "stdout",
     "output_type": "stream",
     "text": [
      "Welcome to the multiplication and exponential table app\n",
      "\n",
      "What number would you like to work with: \n",
      "2.35\n",
      "Multiplication table for 2.35\n",
      "\n",
      "\t 1 * 2.35 = 2.35\n",
      "\t 2 * 2.35 = 4.7\n",
      "\t 3 * 2.35 = 7.05\n",
      "\t 4 * 2.35 = 9.4\n",
      "\t 5 * 2.35 = 11.75\n",
      "\t 6 * 2.35 = 14.1\n",
      "\t 7 * 2.35 = 16.45\n",
      "\t 8 * 2.35 = 18.8\n",
      "\t 9 * 2.35 = 21.15\n",
      "\n",
      "Exponential table for 2.35\n",
      "\n",
      "\t 1 ** 2.35 = 2.35\n",
      "\t 2 ** 2.35 = 5.5225\n",
      "\t 3 ** 2.35 = 12.9779\n",
      "\t 4 ** 2.35 = 30.498\n",
      "\t 5 ** 2.35 = 71.6703\n",
      "\t 6 ** 2.35 = 168.4252\n",
      "\t 7 ** 2.35 = 395.7993\n",
      "\t 8 ** 2.35 = 930.1284\n",
      "\t 9 ** 2.35 = 2185.8017\n"
     ]
    }
   ],
   "source": [
    "print('Welcome to the multiplication and exponential table app\\n')\n",
    "number = float(input('What number would you like to work with: \\n'))\n",
    "print(f'Multiplication table for {number}\\n')\n",
    "for i in range(1,10):\n",
    "    print(f'\\t {i} * {number} = {round((number*i),4)}')\n",
    "print()\n",
    "print(f'Exponential table for {number}\\n')\n",
    "for i in range(1,10):\n",
    "    print(f'\\t {i} ** {number} = {round((number**i),4)}')"
   ]
  },
  {
   "cell_type": "code",
   "execution_count": null,
   "id": "47aca354",
   "metadata": {},
   "outputs": [],
   "source": []
  }
 ],
 "metadata": {
  "kernelspec": {
   "display_name": "Python 3 (ipykernel)",
   "language": "python",
   "name": "python3"
  },
  "language_info": {
   "codemirror_mode": {
    "name": "ipython",
    "version": 3
   },
   "file_extension": ".py",
   "mimetype": "text/x-python",
   "name": "python",
   "nbconvert_exporter": "python",
   "pygments_lexer": "ipython3",
   "version": "3.11.5"
  }
 },
 "nbformat": 4,
 "nbformat_minor": 5
}
