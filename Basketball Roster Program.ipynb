{
 "cells": [
  {
   "cell_type": "code",
   "execution_count": 61,
   "id": "26f0645e",
   "metadata": {},
   "outputs": [
    {
     "name": "stdout",
     "output_type": "stream",
     "text": [
      "\t\tWelcome to the BasketBall Roster Program\n",
      "Who is your point guard: Emma Mbogo\n",
      "Who is your shooting guard: chris maina\n",
      "Who is your small forward: lebron james\n",
      "Who is your power forward: brian mbogo\n",
      "Who is your center: james mbogo\n"
     ]
    }
   ],
   "source": [
    "print('\\t\\tWelcome to the BasketBall Roster Program')\n",
    "\n",
    "point_guard = input('Who is your point guard: ').title()\n",
    "shooting_guard = input('Who is your shooting guard: ').title()\n",
    "small_forward = input('Who is your small forward: ').title()\n",
    "power_forward = input('Who is your power forward: ').title()\n",
    "center = input('Who is your center: ').title()\n",
    "\n"
   ]
  },
  {
   "cell_type": "code",
   "execution_count": 62,
   "id": "955c65a5",
   "metadata": {},
   "outputs": [
    {
     "name": "stdout",
     "output_type": "stream",
     "text": [
      "\t\tYour starting 5 for the upcoming basketball season\n",
      "\t\t\tPoint guard:\tEmma Mbogo\n",
      "\t\t\tShooting guard:\tChris Maina\n",
      "\t\t\tSmall Forward:\tLebron James\n",
      "\t\t\tPower Forward:\tBrian Mbogo\n",
      "\t\t\tCenter:\t\tJames Mbogo\n",
      "\n",
      "Oh No! Lebron James is injured\n",
      "Your roster only has 4 players\n",
      "Who will take Lebron James spot: \n",
      "Kelvin Take\n",
      "\t\tYour starting 5 for the upcoming basketball season\n",
      "\t\t\tPoint guard:\tEmma Mbogo\n",
      "\t\t\tShooting guard:\tChris Maina\n",
      "\t\t\tSmall Forward:\tKelvin Take\n",
      "\t\t\tPower Forward:\tBrian Mbogo\n",
      "\t\t\tCenter:\t\tJames Mbogo\n",
      "\n",
      "Good Luck Kelvin Take you will do great \n",
      "Your roster now has 5 players\n"
     ]
    }
   ],
   "source": [
    "my_list = [point_guard,shooting_guard,small_forward,power_forward,center]\n",
    "\n",
    "print(f'\\t\\tYour starting {len(my_list)} for the upcoming basketball season')\n",
    "print(f'\\t\\t\\tPoint guard:\\t{my_list[0]}')\n",
    "print(f'\\t\\t\\tShooting guard:\\t{my_list[1]}')\n",
    "print(f'\\t\\t\\tSmall Forward:\\t{my_list[2]}')\n",
    "print(f'\\t\\t\\tPower Forward:\\t{my_list[3]}')\n",
    "print(f'\\t\\t\\tCenter:\\t\\t{my_list[4]}\\n')\n",
    "\n",
    "print(f'Oh No! {my_list[2]} is injured')\n",
    "my_list.remove(my_list[2])\n",
    "print(f'Your roster only has {len(my_list)} players')\n",
    "new_small_forward = input(f'Who will take {small_forward} spot: \\n')\n",
    "\n",
    "my_list.insert(2,new_small_forward)\n",
    "print(f'\\t\\tYour starting {len(my_list)} for the upcoming basketball season')\n",
    "print(f'\\t\\t\\tPoint guard:\\t{my_list[0]}')\n",
    "print(f'\\t\\t\\tShooting guard:\\t{my_list[1]}')\n",
    "print(f'\\t\\t\\tSmall Forward:\\t{my_list[2]}')\n",
    "print(f'\\t\\t\\tPower Forward:\\t{my_list[3]}')\n",
    "print(f'\\t\\t\\tCenter:\\t\\t{my_list[4]}\\n')\n",
    "\n",
    "print(f'Good Luck {my_list[2]} you will do great \\nYour roster now has {len(my_list)} players')\n",
    "\n"
   ]
  }
 ],
 "metadata": {
  "kernelspec": {
   "display_name": "Python 3 (ipykernel)",
   "language": "python",
   "name": "python3"
  },
  "language_info": {
   "codemirror_mode": {
    "name": "ipython",
    "version": 3
   },
   "file_extension": ".py",
   "mimetype": "text/x-python",
   "name": "python",
   "nbconvert_exporter": "python",
   "pygments_lexer": "ipython3",
   "version": "3.11.5"
  }
 },
 "nbformat": 4,
 "nbformat_minor": 5
}
