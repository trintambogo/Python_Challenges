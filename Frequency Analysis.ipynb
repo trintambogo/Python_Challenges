from collections import Counter

print('Welcome to the Frequency Analysis App')

phrase = input('\nEnter a word or phrase to count the occurrence of each letter: ').lower()

word = []
for letter in phrase:
    if letter in 'abcdefghijklmnopqrstuvwxyz':
        word.append(letter)
        
new_phrase = ''.join(word)
mydict = Counter(new_phrase)

occurences = {}

for key,value in mydict.items():
        occurences[key] = value

print('\nHere is the frequency analysis from key phrase: ')

sorted_dict = dict(sorted(occurences.items()))
print('Letter\tOccurence Percentage')
for key,value in sorted_dict.items():
    
     print(f'{key}\t{value}\t  {round((value/sum(sorted_dict.values()))*100,2)}%') 
        
mylist = []
        
print(f'\nLetters ordered from highest occurrence to lowest: ')
for i in mydict.most_common():
    letter = i[0][0]
    mylist.append(letter)
    
for i in mylist:
    print(i,end='')
