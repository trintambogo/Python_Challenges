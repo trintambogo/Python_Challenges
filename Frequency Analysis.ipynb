{
 "cells": [
  {
   "cell_type": "code",
   "execution_count": 13,
   "id": "e6d8e88c",
   "metadata": {},
   "outputs": [
    {
     "name": "stdout",
     "output_type": "stream",
     "text": [
      "Welcome to the Frequency Analysis App\n",
      "\n",
      "Enter a word or phrase to count the occurrence of each letter:  Hello! How are you doing today? 32 years old I'm today.\n",
      "\n",
      "Here is the frequency analysis from key phrase: \n",
      "Letter\tOccurence Percentage\n",
      "a\t4\t  10.26%\n",
      "d\t4\t  10.26%\n",
      "e\t3\t  7.69%\n",
      "g\t1\t  2.56%\n",
      "h\t2\t  5.13%\n",
      "i\t2\t  5.13%\n",
      "l\t3\t  7.69%\n",
      "m\t1\t  2.56%\n",
      "n\t1\t  2.56%\n",
      "o\t7\t  17.95%\n",
      "r\t2\t  5.13%\n",
      "s\t1\t  2.56%\n",
      "t\t2\t  5.13%\n",
      "u\t1\t  2.56%\n",
      "w\t1\t  2.56%\n",
      "y\t4\t  10.26%\n",
      "\n",
      "Letters ordered from highest occurrence to lowest: \n",
      "oaydelhritwungsm"
     ]
    }
   ],
   "source": [
    "from collections import Counter\n",
    "\n",
    "print('Welcome to the Frequency Analysis App')\n",
    "\n",
    "phrase = input('\\nEnter a word or phrase to count the occurrence of each letter: ').lower()\n",
    "\n",
    "word = []\n",
    "for letter in phrase:\n",
    "    if letter in 'abcdefghijklmnopqrstuvwxyz':\n",
    "        word.append(letter)\n",
    "        \n",
    "new_phrase = ''.join(word)\n",
    "mydict = Counter(new_phrase)\n",
    "\n",
    "occurences = {}\n",
    "\n",
    "for key,value in mydict.items():\n",
    "        occurences[key] = value\n",
    "\n",
    "print('\\nHere is the frequency analysis from key phrase: ')\n",
    "\n",
    "sorted_dict = dict(sorted(occurences.items()))\n",
    "print('Letter\\tOccurence Percentage')\n",
    "for key,value in sorted_dict.items():\n",
    "    \n",
    "     print(f'{key}\\t{value}\\t  {round((value/sum(sorted_dict.values()))*100,2)}%') \n",
    "        \n",
    "mylist = []\n",
    "        \n",
    "print(f'\\nLetters ordered from highest occurrence to lowest: ')\n",
    "for i in mydict.most_common():\n",
    "    letter = i[0][0]\n",
    "    mylist.append(letter)\n",
    "    \n",
    "for i in mylist:\n",
    "    print(i,end='')"
   ]
  },
  {
   "cell_type": "code",
   "execution_count": null,
   "id": "6cc44671",
   "metadata": {},
   "outputs": [],
   "source": []
  }
 ],
 "metadata": {
  "kernelspec": {
   "display_name": "Python 3 (ipykernel)",
   "language": "python",
   "name": "python3"
  },
  "language_info": {
   "codemirror_mode": {
    "name": "ipython",
    "version": 3
   },
   "file_extension": ".py",
   "mimetype": "text/x-python",
   "name": "python",
   "nbconvert_exporter": "python",
   "pygments_lexer": "ipython3",
   "version": "3.11.5"
  }
 },
 "nbformat": 4,
 "nbformat_minor": 5
}
