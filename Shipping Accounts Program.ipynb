{
 "cells": [
  {
   "cell_type": "code",
   "execution_count": 12,
   "id": "f5cc81be",
   "metadata": {},
   "outputs": [
    {
     "name": "stdout",
     "output_type": "stream",
     "text": [
      "Welcome to the Shipping Accounts Program\n",
      "Hello, what is your username:EMMA\n",
      "\n",
      "Hello emma Welcome back to your account\n",
      "Current shipping prices are as follows: \n",
      "\n",
      "Shipping orders 0 to 100 : \t$5.1 each\n",
      "Shipping orders 100 to 500 : \t$5.0 each\n",
      "Shipping orders 500 to 1000: \t$4.95 each\n",
      "Shipping orders over 1000: \t$4.8 each\n",
      "How many items would you like to ship: 100\n",
      "\n",
      "To ship 100 items it will cost you $510.0 at $5.10 per item\n",
      "Would you like to place this order(y/n): Y\n",
      "Okay. Shipping your 100 items\n"
     ]
    }
   ],
   "source": [
    "print('Welcome to the Shipping Accounts Program')\n",
    "\n",
    "users = ['emma','brian','chris','rose','james']\n",
    "\n",
    "name = input('Hello, what is your username:').lower()\n",
    "\n",
    "if name in users:\n",
    "    print(f'\\nHello {name} Welcome back to your account')\n",
    "    print('Current shipping prices are as follows: ')\n",
    "    zero_to_onehundred = 5.10\n",
    "    onehundred_to_fivehundred = 5.00\n",
    "    fivehundred_to_onethousand = 4.95\n",
    "    over_onethousand = 4.80\n",
    "    print(f'\\nShipping orders 0 to 100 : \\t${zero_to_onehundred } each')\n",
    "    print(f'Shipping orders 100 to 500 : \\t${onehundred_to_fivehundred} each')\n",
    "    print(f'Shipping orders 500 to 1000: \\t${fivehundred_to_onethousand} each')\n",
    "    print(f'Shipping orders over 1000: \\t${over_onethousand} each')\n",
    "\n",
    "    number_items = int(input('How many items would you like to ship: '))\n",
    "    if number_items <= 100:\n",
    "        total = number_items*5.10\n",
    "        print(f'\\nTo ship {number_items} items it will cost you ${round(total,2)} at $5.10 per item')\n",
    "    elif number_items > 100 and number_items <= 500:\n",
    "        total = number_items*5.00\n",
    "        print(f'\\nTo ship {number_items} items it will cost you ${round(total,2)} at $5.00 per item')\n",
    "    elif number_items > 500 and number_items <= 1000:\n",
    "        total = number_items*4.95\n",
    "        print(f'\\nTo ship {number_items} items it will cost you ${round(total,2)} at $4.95 per item')\n",
    "    elif number_items > 1000:\n",
    "        total = number_items*4.80\n",
    "        print(f'\\nTo ship {number_items} items it will cost you ${round(total,2)} at $4.80 per item')\n",
    "        \n",
    "    answer = input('Would you like to place this order(y/n): ').lower()\n",
    "    if answer == 'y':\n",
    "        print(f'Okay. Shipping your {number_items} items')\n",
    "    elif answer == 'n':\n",
    "        print(f'Okay, no order is being placed at this time.')\n",
    "        \n",
    "elif name not in users:\n",
    "    print('Sorry, you do not have an account with us. Goodbye')\n",
    "        "
   ]
  },
  {
   "cell_type": "code",
   "execution_count": null,
   "id": "738a518e",
   "metadata": {},
   "outputs": [],
   "source": []
  }
 ],
 "metadata": {
  "kernelspec": {
   "display_name": "Python 3 (ipykernel)",
   "language": "python",
   "name": "python3"
  },
  "language_info": {
   "codemirror_mode": {
    "name": "ipython",
    "version": 3
   },
   "file_extension": ".py",
   "mimetype": "text/x-python",
   "name": "python",
   "nbconvert_exporter": "python",
   "pygments_lexer": "ipython3",
   "version": "3.11.5"
  }
 },
 "nbformat": 4,
 "nbformat_minor": 5
}
