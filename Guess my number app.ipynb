{
 "cells": [
  {
   "cell_type": "code",
   "execution_count": 20,
   "id": "8b5c8419",
   "metadata": {},
   "outputs": [
    {
     "name": "stdout",
     "output_type": "stream",
     "text": [
      "Welcome to the Guess My Number App\n",
      "\n",
      "Hello!What is your name: emma\n",
      "Well emma, I am thinking of a number between 1 and 20\n",
      "\n",
      "Take a guess: 5\n",
      "Your guess is too low\n",
      "Take a guess: 8\n",
      "\n",
      "Good Job emma! You guessed my number in 2 guesses\n"
     ]
    }
   ],
   "source": [
    "import random\n",
    "\n",
    "print('Welcome to the Guess My Number App')\n",
    "\n",
    "number = random.randint(1,20)\n",
    "\n",
    "name = input('\\nHello!What is your name: ')\n",
    "print(f'Well {name}, I am thinking of a number between 1 and 20\\n')\n",
    "\n",
    "\n",
    "for i in range(5):\n",
    "    guess = int(input('Take a guess: '))\n",
    "    if i != 4:\n",
    "        if guess == number:\n",
    "            print(f'\\nGood Job {name}! You guessed my number in {i+1} guesses')\n",
    "            break\n",
    "        elif guess < number:\n",
    "            print('Your guess is too low')\n",
    "        elif guess > number:\n",
    "            print('Your guess is too high')\n",
    "    elif i == 4:\n",
    "        if guess < number:\n",
    "            print('Your guess is too low')\n",
    "            print(f'\\nGame Over. The number I was thinking of is {number}')\n",
    "        elif guess > number:\n",
    "            print('Your guess is too high')\n",
    "            print(f'\\nGame Over. The number I was thinking of is {number}')"
   ]
  },
  {
   "cell_type": "code",
   "execution_count": 21,
   "id": "6e18a7f0",
   "metadata": {},
   "outputs": [
    {
     "name": "stdout",
     "output_type": "stream",
     "text": [
      "Welcome to the Guess My Number App\n",
      "\n",
      "Hello!What is your name: emma\n",
      "Well emma, I am thinking of a number between 1 and 20\n",
      "\n",
      "Take a guess: 20\n",
      "Your guess is too high\n",
      "Take a guess: 16\n",
      "Your guess is too low\n",
      "Take a guess: 13\n",
      "Your guess is too low\n",
      "Take a guess: 14\n",
      "Your guess is too low\n",
      "Take a guess: 15\n",
      "Your guess is too low\n",
      "\n",
      "Game Over. The number I was thinking of is 18\n"
     ]
    }
   ],
   "source": [
    "import random\n",
    "\n",
    "print('Welcome to the Guess My Number App')\n",
    "\n",
    "number = random.randint(1,20)\n",
    "\n",
    "name = input('\\nHello!What is your name: ')\n",
    "print(f'Well {name}, I am thinking of a number between 1 and 20\\n')\n",
    "\n",
    "\n",
    "for i in range(5):\n",
    "    guess = int(input('Take a guess: '))\n",
    "    if i != 4:\n",
    "        if guess == number:\n",
    "            print(f'\\nGood Job {name}! You guessed my number in {i+1} guesses')\n",
    "            break\n",
    "        elif guess < number:\n",
    "            print('Your guess is too low')\n",
    "        elif guess > number:\n",
    "            print('Your guess is too high')\n",
    "    elif i == 4:\n",
    "        if guess < number:\n",
    "            print('Your guess is too low')\n",
    "            print(f'\\nGame Over. The number I was thinking of is {number}')\n",
    "        elif guess > number:\n",
    "            print('Your guess is too high')\n",
    "            print(f'\\nGame Over. The number I was thinking of is {number}')"
   ]
  },
  {
   "cell_type": "code",
   "execution_count": null,
   "id": "072a7893",
   "metadata": {},
   "outputs": [],
   "source": []
  }
 ],
 "metadata": {
  "kernelspec": {
   "display_name": "Python 3 (ipykernel)",
   "language": "python",
   "name": "python3"
  },
  "language_info": {
   "codemirror_mode": {
    "name": "ipython",
    "version": 3
   },
   "file_extension": ".py",
   "mimetype": "text/x-python",
   "name": "python",
   "nbconvert_exporter": "python",
   "pygments_lexer": "ipython3",
   "version": "3.11.5"
  }
 },
 "nbformat": 4,
 "nbformat_minor": 5
}
